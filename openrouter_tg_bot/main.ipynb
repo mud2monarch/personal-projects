{
 "cells": [
  {
   "cell_type": "code",
   "execution_count": 39,
   "metadata": {},
   "outputs": [],
   "source": [
    "import logging, os, asyncio\n",
    "import requests\n",
    "import json\n",
    "\n",
    "logging.basicConfig(\n",
    "    format='%(asctime)s - %(name)s - %(levelname)s - %(message)s',\n",
    "    level=logging.INFO\n",
    ")\n",
    "\n",
    "from dotenv import load_dotenv\n",
    "load_dotenv()\n",
    "\n",
    "TG_BOT_TOKEN = os.getenv('TG_BOT_TOKEN')\n",
    "OPENROUTER_API_KEY = os.getenv('OPENROUTER_KEY')\n",
    "\n",
    "# import nest_asyncio\n",
    "# nest_asyncio.apply()\n",
    "\n",
    "# from telegram import Update\n",
    "# from telegram.ext import filters, ApplicationBuilder, ContextTypes, CommandHandler, MessageHandler"
   ]
  },
  {
   "cell_type": "code",
   "execution_count": 36,
   "metadata": {},
   "outputs": [],
   "source": [
    "GROK2 = \"x-ai/grok-2-1212\"\n",
    "CLAUDE3_5 = \"anthropic/claude-3.5-sonnet:beta\"\n",
    "LLAMA3_3 = \"meta-llama/llama-3.3-70b-instruct\"\n",
    "\n",
    "model = GROK2"
   ]
  },
  {
   "cell_type": "code",
   "execution_count": 48,
   "metadata": {},
   "outputs": [],
   "source": [
    "def query_openrouter(\n",
    "    query: str,\n",
    "    _model: str = model\n",
    ") -> str:\n",
    "\n",
    "    response = requests.post(\n",
    "    url=\"https://openrouter.ai/api/v1/chat/completions\",\n",
    "    headers={\n",
    "        \"Authorization\": f\"Bearer {OPENROUTER_API_KEY}\",\n",
    "        \"HTTP-Referer\": f\"x.com/mud2monarch\", # Optional, for including your app on openrouter.ai rankings.\n",
    "        \"X-Title\": f\"gyges\", # Optional. Shows in rankings on openrouter.ai.\n",
    "    },\n",
    "    data=json.dumps({\n",
    "        \"model\": _model, # Optional\n",
    "        \"messages\": [\n",
    "            {\n",
    "                \"role\": \"user\",\n",
    "                \"content\": query},\n",
    "        ],\n",
    "    })\n",
    "    )\n",
    "\n",
    "    # Check if the request was successful\n",
    "    if response.status_code == 200:\n",
    "        # Parse the JSON response\n",
    "        json_response = response.json()\n",
    "        ai_message = json_response['choices'][0]['message']['content']\n",
    "        return ai_message\n",
    "        # # Extract the content of the AI's message\n",
    "        # ai_message = json_response['choices'][0]['message']['content']\n",
    "        # return ai_message\n",
    "    else:\n",
    "        # If the request failed, return an error message or handle it as needed\n",
    "        return f\"Error: {response.status_code} - {response.text}\""
   ]
  },
  {
   "cell_type": "code",
   "execution_count": 53,
   "metadata": {},
   "outputs": [],
   "source": [
    "test = query_openrouter('what is your model?')"
   ]
  },
  {
   "cell_type": "code",
   "execution_count": 54,
   "metadata": {},
   "outputs": [
    {
     "name": "stdout",
     "output_type": "stream",
     "text": [
      "I am Grok, created by xAI. Nice to meet you! I'm here to help answer your questions and provide helpful insights. What's on your mind?\n"
     ]
    }
   ],
   "source": [
    "print(test)"
   ]
  },
  {
   "cell_type": "code",
   "execution_count": null,
   "metadata": {},
   "outputs": [],
   "source": []
  }
 ],
 "metadata": {
  "kernelspec": {
   "display_name": "venv",
   "language": "python",
   "name": "python3"
  },
  "language_info": {
   "codemirror_mode": {
    "name": "ipython",
    "version": 3
   },
   "file_extension": ".py",
   "mimetype": "text/x-python",
   "name": "python",
   "nbconvert_exporter": "python",
   "pygments_lexer": "ipython3",
   "version": "3.9.6"
  }
 },
 "nbformat": 4,
 "nbformat_minor": 2
}
