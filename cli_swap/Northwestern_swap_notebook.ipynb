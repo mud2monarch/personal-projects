{
  "cells": [
    {
      "cell_type": "markdown",
      "metadata": {},
      "source": [
        "# Uniswap Sepolia Token Swap Demo\n",
        "This notebook demonstrates how to:\n",
        "1. Generate a new private key and get its public address.\n",
        "2. Fund the address with testnet ETH (from another wallet).\n",
        "3. Wrap ETH into WETH.\n",
        "4. Approve Uniswap's SwapRouter.\n",
        "5. Swap WETH for USDC.\n",
        "\n",
        "We'll be using `web3.py` and the Uniswap V3 SwapRouter on Unichain Sepolia (Chain ID = 1301)."
      ]
    },
    {
      "cell_type": "code",
      "execution_count": 4,
      "metadata": {
        "name": "1. Imports and Environment Setup"
      },
      "outputs": [
        {
          "name": "stdout",
          "output_type": "stream",
          "text": [
            "Connected to: Geth/v1.101411.4-stable-efa05b1b/linux-amd64/go1.23.4\n"
          ]
        }
      ],
      "source": [
        "# 1. Imports and Environment Setup\n",
        "import os\n",
        "import secrets\n",
        "from eth_account import Account\n",
        "from web3 import Web3, HTTPProvider\n",
        "from eth_account.signers.local import LocalAccount\n",
        "from dotenv import load_dotenv\n",
        "\n",
        "# Load environment variables (RPC URL etc.)\n",
        "# Make sure you have a .env file with something like:\n",
        "# WEB3_RPC_URL='https://<YOUR_UNICHAIN_SEPOLIA_URL>'\n",
        "load_dotenv()\n",
        "\n",
        "# We'll fetch the RPC URL from the environment.\n",
        "RPC_URL = os.getenv(\"WEB3_RPC_URL\")\n",
        "if not RPC_URL:\n",
        "    raise Exception(\"Please set WEB3_RPC_URL in your .env file.\")\n",
        "\n",
        "# Create a Web3 instance\n",
        "w3 = Web3(HTTPProvider(RPC_URL))\n",
        "print(\"Connected to:\", w3.client_version)"
      ]
    },
    {
      "cell_type": "code",
      "execution_count": 14,
      "metadata": {
        "name": "2. Generate a New Wallet"
      },
      "outputs": [
        {
          "name": "stdout",
          "output_type": "stream",
          "text": [
            "Generated a new wallet!\n",
            "Private key: 0x81a58d4cb38b530a6d152d58e3d5b5d9eac6badbf2df9084d4399ed39f11b46e\n",
            "Public address: 0xa7450338B3c85eE8D08903e295805BE7aC6FE3EB\n"
          ]
        }
      ],
      "source": [
        "# 2. Generate a New Wallet\n",
        "# We will generate a random private key in the classroom.\n",
        "# This is purely for demo - do not use for real funds.\n",
        "\n",
        "private_key = \"0x\" + secrets.token_hex(32)\n",
        "account: LocalAccount = Account.from_key(private_key)\n",
        "\n",
        "# TODO: add some info on how public keys are generated from private keys.\n",
        "\n",
        "print(\"Generated a new wallet!\")\n",
        "print(\"Private key:\", private_key)\n",
        "print(\"Public address:\", account.address)"
      ]
    },
    {
      "cell_type": "markdown",
      "metadata": {
        "name": "3. Fund the New Wallet"
      },
      "source": [
        "### 3. Fund the New Wallet\n",
        "At this point, **pause** execution and send some testnet ETH\n",
        "to the address shown above from another wallet or faucet.\n",
        "\n",
        "*You can check the funding status on the block explorer:*  \n",
        "https://sepolia.uniscan.xyz/\n"
      ]
    },
    {
      "cell_type": "code",
      "execution_count": 6,
      "metadata": {
        "name": "4. Confirm Wallet Balance"
      },
      "outputs": [
        {
          "name": "stdout",
          "output_type": "stream",
          "text": [
            "ETH Balance: 0.05 ETH\n",
            "Balance detected! Proceed with the next steps.\n"
          ]
        }
      ],
      "source": [
        "# 4. Confirm Wallet Balance\n",
        "# Once you have sent some ETH, run this cell to confirm the balance.\n",
        "\n",
        "balance = w3.eth.get_balance(account.address)\n",
        "print(\"ETH Balance:\", w3.from_wei(balance, \"ether\"), \"ETH\")\n",
        "if balance == 0:\n",
        "    print(\"No ETH balance yet. Please fund the wallet and try again.\")\n",
        "else:\n",
        "    print(\"Balance detected! Proceed with the next steps.\")"
      ]
    },
    {
      "cell_type": "markdown",
      "metadata": {
        "name": "5. Wrap ETH into WETH"
      },
      "source": [
        "### 5. Wrap ETH into WETH\n",
        "The WETH contract on Unichain Sepolia is at:\n",
        "`0x4200000000000000000000000000000000000006`.\n",
        "\n",
        "To get WETH, we will call the `deposit()` function on the WETH\n",
        "contract, passing ETH as `value` in the transaction.\n",
        "This effectively \"wraps\" your ETH into an ERC20 token."
      ]
    },
    {
      "cell_type": "code",
      "execution_count": 8,
      "metadata": {
        "name": "6. Execute wrap (deposit) transaction"
      },
      "outputs": [
        {
          "name": "stdout",
          "output_type": "stream",
          "text": [
            "Wrapping ETH. Waiting for confirmation...\n",
            "WETH deposit transaction confirmed! Tx Hash: 26f29beab03b7901200de1a7888c8e0bb8f67ce3129957560fd4c0ef305c434f\n",
            "WETH Balance: 0.01 WETH\n"
          ]
        }
      ],
      "source": [
        "# 6. Execute the deposit transaction\n",
        "\n",
        "WETH_ADDRESS = \"0x4200000000000000000000000000000000000006\"\n",
        "\n",
        "# TODO: show what the `deposit()` function does in the WETH contract.\n",
        "\n",
        "# Minimal ABI for the WETH contract: just deposit, withdraw, balanceOf, etc.\n",
        "weth_abi = [\n",
        "    {\n",
        "        \"constant\": False,\n",
        "        \"inputs\": [],\n",
        "        \"name\": \"deposit\",\n",
        "        \"outputs\": [],\n",
        "        \"stateMutability\": \"payable\",\n",
        "        \"type\": \"function\"\n",
        "    },\n",
        "    {\n",
        "        \"constant\": False,\n",
        "        \"inputs\": [{\"name\":\"wad\",\"type\":\"uint256\"}],\n",
        "        \"name\": \"withdraw\",\n",
        "        \"outputs\": [],\n",
        "        \"stateMutability\": \"nonpayable\",\n",
        "        \"type\": \"function\"\n",
        "    },\n",
        "    {\n",
        "        \"constant\": True,\n",
        "        \"inputs\": [{\"name\":\"\",\"type\":\"address\"}],\n",
        "        \"name\": \"balanceOf\",\n",
        "        \"outputs\": [{\"name\":\"\",\"type\":\"uint256\"}],\n",
        "        \"stateMutability\": \"view\",\n",
        "        \"type\": \"function\"\n",
        "    }\n",
        "]\n",
        "\n",
        "weth_contract = w3.eth.contract(address=WETH_ADDRESS, abi=weth_abi)\n",
        "\n",
        "# Let's wrap 0.01 ETH (for example).\n",
        "wrap_amount_wei = w3.to_wei(0.01, 'ether')\n",
        "\n",
        "# Build transaction\n",
        "wrap_txn = weth_contract.functions.deposit().build_transaction({\n",
        "    'from': account.address,\n",
        "    'value': wrap_amount_wei,   # The ETH we are sending\n",
        "    'nonce': w3.eth.get_transaction_count(account.address),\n",
        "    'gas': 200000,\n",
        "    'gasPrice': w3.eth.gas_price,\n",
        "    'chainId': 1301\n",
        "})\n",
        "\n",
        "# Sign and send\n",
        "signed_wrap_txn = account.sign_transaction(wrap_txn)\n",
        "tx_hash = w3.eth.send_raw_transaction(signed_wrap_txn.raw_transaction)\n",
        "print(\"Wrapping ETH. Waiting for confirmation...\")\n",
        "receipt = w3.eth.wait_for_transaction_receipt(tx_hash)\n",
        "print(\"WETH deposit transaction confirmed! Tx Hash:\", receipt.transactionHash.hex())\n",
        "\n",
        "# Check WETH balance\n",
        "weth_balance = weth_contract.functions.balanceOf(account.address).call()\n",
        "print(\"WETH Balance:\", w3.from_wei(weth_balance, 'ether'), \"WETH\")"
      ]
    },
    {
      "cell_type": "markdown",
      "metadata": {
        "name": "7. Approve Uniswap SwapRouter to Spend WETH"
      },
      "source": [
        "### 7. Approve Uniswap SwapRouter to Spend WETH\n",
        "We need to let the Uniswap SwapRouter spend our WETH.\n",
        "From the provided docs, the address for the Uniswap `SwapRouter02`\n",
        "on Unichain Sepolia is:\n",
        "```\n",
        "0xd1AAE39293221B77B0C71fBD6dCb7Ea29Bb5B166\n",
        "```\n",
        "We'll set an allowance so that the router can pull our WETH\n",
        "during the swap."
      ]
    },
    {
      "cell_type": "code",
      "execution_count": 11,
      "metadata": {
        "name": "8. Execute Approval Transaction"
      },
      "outputs": [
        {
          "name": "stdout",
          "output_type": "stream",
          "text": [
            "Approving SwapRouter to spend WETH. Waiting for confirmation...\n",
            "Approval transaction confirmed! Tx Hash: 44b5dae44cc8fb412322a29410e1b4d8379c439b73295f7a758cf4d003b12ccf\n",
            "Current WETH allowance for SwapRouter: 1 WETH\n"
          ]
        }
      ],
      "source": [
        "# 8. Execute Approval Transaction\n",
        "SWAP_ROUTER_ADDRESS = \"0xd1AAE39293221B77B0C71fBD6dCb7Ea29Bb5B166\"\n",
        "\n",
        "# Minimal ERC20 ABI for 'approve' and 'allowance'\n",
        "erc20_abi = [\n",
        "    {\n",
        "        \"constant\": False,\n",
        "        \"inputs\": [\n",
        "            {\n",
        "                \"name\": \"_spender\",\n",
        "                \"type\": \"address\"\n",
        "            },\n",
        "            {\n",
        "                \"name\": \"_value\",\n",
        "                \"type\": \"uint256\"\n",
        "            }\n",
        "        ],\n",
        "        \"name\": \"approve\",\n",
        "        \"outputs\": [\n",
        "            {\n",
        "                \"name\": \"\",\n",
        "                \"type\": \"bool\"\n",
        "            }\n",
        "        ],\n",
        "        \"stateMutability\": \"nonpayable\",\n",
        "        \"type\": \"function\"\n",
        "    },\n",
        "    {\n",
        "        \"constant\": True,\n",
        "        \"inputs\": [\n",
        "            {\n",
        "                \"name\": \"_owner\",\n",
        "                \"type\": \"address\"\n",
        "            },\n",
        "            {\n",
        "                \"name\": \"_spender\",\n",
        "                \"type\": \"address\"\n",
        "            }\n",
        "        ],\n",
        "        \"name\": \"allowance\",\n",
        "        \"outputs\": [\n",
        "            {\n",
        "                \"name\": \"\",\n",
        "                \"type\": \"uint256\"\n",
        "            }\n",
        "        ],\n",
        "        \"stateMutability\": \"view\",\n",
        "        \"type\": \"function\"\n",
        "    }\n",
        "]\n",
        "\n",
        "weth_token_contract = w3.eth.contract(address=WETH_ADDRESS, abi=erc20_abi)\n",
        "approve_amount = w3.to_wei(1, 'ether')  # Approve 1 WETH (just as an example)\n",
        "\n",
        "approve_txn = weth_token_contract.functions.approve(\n",
        "    SWAP_ROUTER_ADDRESS,\n",
        "    approve_amount\n",
        ").build_transaction({\n",
        "    'from': account.address,\n",
        "    'nonce': w3.eth.get_transaction_count(account.address),\n",
        "    'gas': 100000,\n",
        "    'gasPrice': w3.eth.gas_price,\n",
        "    'chainId': 1301\n",
        "})\n",
        "\n",
        "signed_approve_txn = account.sign_transaction(approve_txn)\n",
        "tx_hash = w3.eth.send_raw_transaction(signed_approve_txn.raw_transaction)\n",
        "print(\"Approving SwapRouter to spend WETH. Waiting for confirmation...\")\n",
        "receipt = w3.eth.wait_for_transaction_receipt(tx_hash)\n",
        "print(\"Approval transaction confirmed! Tx Hash:\", receipt.transactionHash.hex())\n",
        "\n",
        "# Check allowance\n",
        "allowance = weth_token_contract.functions.allowance(account.address, SWAP_ROUTER_ADDRESS).call()\n",
        "print(\"Current WETH allowance for SwapRouter:\", w3.from_wei(allowance, 'ether'), \"WETH\")"
      ]
    },
    {
      "cell_type": "markdown",
      "metadata": {
        "name": "9. Swap WETH for USDC"
      },
      "source": [
        "### 9. Swap WETH for USDC\n",
        "Now we can use the Uniswap V3 `SwapRouter02` contract's `exactInputSingle()`\n",
        "to swap from WETH to USDC.\n",
        "\n",
        "The USDC contract (Circle USDC) on Unichain Sepolia is:\n",
        "```\n",
        "0x31d0220469e10c4E71834a79b1f276d740d3768F\n",
        "```\n",
        "We will specify:\n",
        "- `tokenIn` = WETH\n",
        "- `tokenOut` = USDC\n",
        "- `fee` = 3000 (0.3%) or 500 (0.05%), depending on available liquidity.\n",
        "  For demonstration, let's try `3000`.\n",
        "- `recipient` = our own address.\n",
        "- `deadline` = a timestamp in the near future.\n",
        "- `amountIn` = 0.005 WETH (for example).\n",
        "- `amountOutMinimum` = 0 (for demonstration). Real usage should use slippage checks.\n"
      ]
    },
    {
      "cell_type": "code",
      "execution_count": 12,
      "metadata": {
        "name": "10. Build and Send Swap Transaction"
      },
      "outputs": [
        {
          "name": "stdout",
          "output_type": "stream",
          "text": [
            "Swapping WETH -> USDC. Waiting for confirmation...\n",
            "Swap transaction confirmed! Tx Hash: 3f387cd86c6f349cba1354c13c296685c53180a59af48abe4ad44d2457bd7a6e\n"
          ]
        }
      ],
      "source": [
        "# 10. Build and Send the Swap Transaction\n",
        "\n",
        "USDC_ADDRESS = \"0x31d0220469e10c4E71834a79b1f276d740d3768F\"\n",
        "\n",
        "# Minimal ABI for the SwapRouter function exactInputSingle.\n",
        "# For a full interface, see: https://github.com/Uniswap/v3-periphery/blob/main/contracts/interfaces/ISwapRouter.sol\n",
        "swap_router_abi = [\n",
        "    {\n",
        "        \"name\": \"exactInputSingle\",\n",
        "        \"type\": \"function\",\n",
        "        \"stateMutability\": \"payable\",\n",
        "        \"inputs\": [\n",
        "            {\n",
        "                \"components\": [\n",
        "                    {\n",
        "                        \"internalType\": \"address\",\n",
        "                        \"name\": \"tokenIn\",\n",
        "                        \"type\": \"address\"\n",
        "                    },\n",
        "                    {\n",
        "                        \"internalType\": \"address\",\n",
        "                        \"name\": \"tokenOut\",\n",
        "                        \"type\": \"address\"\n",
        "                    },\n",
        "                    {\n",
        "                        \"internalType\": \"uint24\",\n",
        "                        \"name\": \"fee\",\n",
        "                        \"type\": \"uint24\"\n",
        "                    },\n",
        "                    {\n",
        "                        \"internalType\": \"address\",\n",
        "                        \"name\": \"recipient\",\n",
        "                        \"type\": \"address\"\n",
        "                    },\n",
        "                    {\n",
        "                        \"internalType\": \"uint256\",\n",
        "                        \"name\": \"deadline\",\n",
        "                        \"type\": \"uint256\"\n",
        "                    },\n",
        "                    {\n",
        "                        \"internalType\": \"uint256\",\n",
        "                        \"name\": \"amountIn\",\n",
        "                        \"type\": \"uint256\"\n",
        "                    },\n",
        "                    {\n",
        "                        \"internalType\": \"uint256\",\n",
        "                        \"name\": \"amountOutMinimum\",\n",
        "                        \"type\": \"uint256\"\n",
        "                    },\n",
        "                    {\n",
        "                        \"internalType\": \"uint160\",\n",
        "                        \"name\": \"sqrtPriceLimitX96\",\n",
        "                        \"type\": \"uint160\"\n",
        "                    }\n",
        "                ],\n",
        "                \"internalType\": \"struct ISwapRouter.ExactInputSingleParams\",\n",
        "                \"name\": \"params\",\n",
        "                \"type\": \"tuple\"\n",
        "            }\n",
        "        ],\n",
        "        \"outputs\": [\n",
        "            {\n",
        "                \"internalType\": \"uint256\",\n",
        "                \"name\": \"amountOut\",\n",
        "                \"type\": \"uint256\"\n",
        "            }\n",
        "        ]\n",
        "    }\n",
        "]\n",
        "\n",
        "swap_router_contract = w3.eth.contract(address=SWAP_ROUTER_ADDRESS, abi=swap_router_abi)\n",
        "\n",
        "# We'll swap 0.005 WETH.\n",
        "amount_in_wei = w3.to_wei(0.005, 'ether')\n",
        "\n",
        "# Deadline (10 minutes from now). If your local clock is off, adjust accordingly.\n",
        "import time\n",
        "deadline = int(time.time()) + 600  # 10 minutes from now\n",
        "\n",
        "tx = swap_router_contract.functions.exactInputSingle({\n",
        "    'tokenIn': WETH_ADDRESS,\n",
        "    'tokenOut': USDC_ADDRESS,\n",
        "    'fee': 3000,  # 0.3% fee tier\n",
        "    'recipient': account.address,\n",
        "    'deadline': deadline,\n",
        "    'amountIn': amount_in_wei,\n",
        "    'amountOutMinimum': 0,  # for demo only, set slippage in real use\n",
        "    'sqrtPriceLimitX96': 0  # no price limit\n",
        "}).build_transaction({\n",
        "    'from': account.address,\n",
        "    'nonce': w3.eth.get_transaction_count(account.address),\n",
        "    'gas': 300000,\n",
        "    'gasPrice': w3.eth.gas_price,\n",
        "    'chainId': 1301,\n",
        "    # 'value': 0  # not sending ETH directly, we are swapping WETH\n",
        "})\n",
        "\n",
        "signed_tx = account.sign_transaction(tx)\n",
        "tx_hash = w3.eth.send_raw_transaction(signed_tx.raw_transaction)\n",
        "print(\"Swapping WETH -> USDC. Waiting for confirmation...\")\n",
        "receipt = w3.eth.wait_for_transaction_receipt(tx_hash)\n",
        "print(\"Swap transaction confirmed! Tx Hash:\", receipt.transactionHash.hex())"
      ]
    },
    {
      "cell_type": "markdown",
      "metadata": {
        "name": "11. Verify Final Balances"
      },
      "source": [
        "### 11. Verify Final Balances\n",
        "Check how much WETH remains, and how much USDC we received."
      ]
    },
    {
      "cell_type": "code",
      "execution_count": 13,
      "metadata": {
        "name": "12. Check WETH and USDC Balances"
      },
      "outputs": [
        {
          "name": "stdout",
          "output_type": "stream",
          "text": [
            "Final WETH: 0.01 WETH\n",
            "Final USDC: 0.0 USDC\n",
            "\n",
            "Done! You have successfully performed a swap on Unichain Sepolia.\n"
          ]
        }
      ],
      "source": [
        "# 12. Check WETH and USDC Balances\n",
        "\n",
        "# Re-use the WETH contract from before, but let's define a USDC contract instance.\n",
        "\n",
        "usdc_abi = [\n",
        "    {\n",
        "        \"constant\": True,\n",
        "        \"inputs\": [{\"name\":\"\",\"type\":\"address\"}],\n",
        "        \"name\": \"balanceOf\",\n",
        "        \"outputs\": [{\"name\":\"\",\"type\":\"uint256\"}],\n",
        "        \"stateMutability\": \"view\",\n",
        "        \"type\": \"function\"\n",
        "    },\n",
        "    {\n",
        "        \"constant\": True,\n",
        "        \"inputs\": [],\n",
        "        \"name\": \"decimals\",\n",
        "        \"outputs\": [\n",
        "            {\n",
        "                \"name\": \"\",\n",
        "                \"type\": \"uint8\"\n",
        "            }\n",
        "        ],\n",
        "        \"stateMutability\": \"view\",\n",
        "        \"type\": \"function\"\n",
        "    }\n",
        "]\n",
        "\n",
        "usdc_contract = w3.eth.contract(address=USDC_ADDRESS, abi=usdc_abi)\n",
        "\n",
        "final_weth_balance = weth_contract.functions.balanceOf(account.address).call()\n",
        "usdc_balance = usdc_contract.functions.balanceOf(account.address).call()\n",
        "\n",
        "# USDC often has 6 decimals, but let's fetch from the contract to be sure.\n",
        "usdc_decimals = usdc_contract.functions.decimals().call()\n",
        "\n",
        "print(\"Final WETH:\", w3.from_wei(final_weth_balance, 'ether'), \"WETH\")\n",
        "print(\"Final USDC:\", usdc_balance / (10 ** usdc_decimals), \"USDC\")\n",
        "\n",
        "print(\"\\nDone! You have successfully performed a swap on Unichain Sepolia.\")"
      ]
    }
  ],
  "metadata": {
    "kernelspec": {
      "display_name": ".venv",
      "language": "python",
      "name": "python3"
    },
    "language_info": {
      "codemirror_mode": {
        "name": "ipython",
        "version": 3
      },
      "file_extension": ".py",
      "mimetype": "text/x-python",
      "name": "python",
      "nbconvert_exporter": "python",
      "pygments_lexer": "ipython3",
      "version": "3.11.0"
    }
  },
  "nbformat": 4,
  "nbformat_minor": 4
}
