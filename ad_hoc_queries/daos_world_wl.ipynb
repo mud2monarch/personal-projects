{
 "cells": [
  {
   "cell_type": "code",
   "execution_count": null,
   "metadata": {},
   "outputs": [],
   "source": [
    "# @DEV SETUP: `pip install polars python-dotenv dune-spice`\n",
    "# `dune-spice` is from https://github.com/paradigmxyz/spice.\n",
    "# To use spice, you need a Dune API key (https://dune.com/settings/api), available on the free plan (about 125 credits).\n",
    "# Below, I provide an alternate way to load a CSV of the same Dune data if you'd prefer to do that.\n",
    "\n",
    "import polars as pl\n",
    "import spice\n",
    "from dotenv import load_dotenv\n",
    "import os\n",
    "\n",
    "# Load dune key from .env file. If you don't want to do this, see next cell.\n",
    "load_dotenv()\n",
    "dune_key = os.getenv('DUNE_KEY')\n",
    "os.environ['DUNE_API_KEY'] = dune_key\n"
   ]
  },
  {
   "cell_type": "code",
   "execution_count": null,
   "metadata": {},
   "outputs": [
    {
     "name": "stdout",
     "output_type": "stream",
     "text": [
      "getting results, query_id = 4481601\n",
      "saving result to cache\n"
     ]
    }
   ],
   "source": [
    "df = spice.query(4481601)\n",
    "\n",
    "\"\"\"\n",
    "You can also load the data from a CSV file.\n",
    "\n",
    "1. Go to https://dune.com/queries/4481601 and download the data as CSV.\n",
    "2. Bring it into the same folder as this notebook and name it 'tokenholders.csv'\n",
    "3. Comment in the below line of code and run.\n",
    "\"\"\"\n",
    "# df = pl.read_csv('tokeholders.csv')"
   ]
  },
  {
   "cell_type": "code",
   "execution_count": 29,
   "metadata": {},
   "outputs": [
    {
     "data": {
      "text/html": [
       "<div><style>\n",
       ".dataframe > thead > tr,\n",
       ".dataframe > tbody > tr {\n",
       "  text-align: right;\n",
       "  white-space: pre-wrap;\n",
       "}\n",
       "</style>\n",
       "<small>shape: (5, 5)</small><table border=\"1\" class=\"dataframe\"><thead><tr><th>from</th><th>to</th><th>value</th><th>evt_block_number</th><th>contract_address</th></tr><tr><td>str</td><td>str</td><td>f64</td><td>f64</td><td>str</td></tr></thead><tbody><tr><td>&quot;0x56e6983d59bf472ced0e63966a14…</td><td>&quot;0xf5677b22454dee978b2eb908d6a1…</td><td>277777.7778</td><td>2.4132607e7</td><td>&quot;0x2b0772bea2757624287ffc7feb92…</td></tr><tr><td>&quot;0x2ab6bbfcf899d466206ce8fac7bc…</td><td>&quot;0x56e6983d59bf472ced0e63966a14…</td><td>277777.7778</td><td>2.4132607e7</td><td>&quot;0x2b0772bea2757624287ffc7feb92…</td></tr><tr><td>&quot;0x3fc91a3afd70395cd496c647d5a6…</td><td>&quot;0xe56169888ab88d11c6ad4247b865…</td><td>3464.426702</td><td>2.4132606e7</td><td>&quot;0x2b0772bea2757624287ffc7feb92…</td></tr><tr><td>&quot;0x3fc91a3afd70395cd496c647d5a6…</td><td>&quot;0x5d64d14d2cf4fe5fe4e65b1c7e3d…</td><td>8.682774</td><td>2.4132606e7</td><td>&quot;0x2b0772bea2757624287ffc7feb92…</td></tr><tr><td>&quot;0xf5677b22454dee978b2eb908d6a1…</td><td>&quot;0x3fc91a3afd70395cd496c647d5a6…</td><td>3473.109476</td><td>2.4132606e7</td><td>&quot;0x2b0772bea2757624287ffc7feb92…</td></tr></tbody></table></div>"
      ],
      "text/plain": [
       "shape: (5, 5)\n",
       "┌─────────────────────┬─────────────────────┬─────────────┬──────────────────┬─────────────────────┐\n",
       "│ from                ┆ to                  ┆ value       ┆ evt_block_number ┆ contract_address    │\n",
       "│ ---                 ┆ ---                 ┆ ---         ┆ ---              ┆ ---                 │\n",
       "│ str                 ┆ str                 ┆ f64         ┆ f64              ┆ str                 │\n",
       "╞═════════════════════╪═════════════════════╪═════════════╪══════════════════╪═════════════════════╡\n",
       "│ 0x56e6983d59bf472ce ┆ 0xf5677b22454dee978 ┆ 277777.7778 ┆ 2.4132607e7      ┆ 0x2b0772bea27576242 │\n",
       "│ d0e63966a14…        ┆ b2eb908d6a1…        ┆             ┆                  ┆ 87ffc7feb92…        │\n",
       "│ 0x2ab6bbfcf899d4662 ┆ 0x56e6983d59bf472ce ┆ 277777.7778 ┆ 2.4132607e7      ┆ 0x2b0772bea27576242 │\n",
       "│ 06ce8fac7bc…        ┆ d0e63966a14…        ┆             ┆                  ┆ 87ffc7feb92…        │\n",
       "│ 0x3fc91a3afd70395cd ┆ 0xe56169888ab88d11c ┆ 3464.426702 ┆ 2.4132606e7      ┆ 0x2b0772bea27576242 │\n",
       "│ 496c647d5a6…        ┆ 6ad4247b865…        ┆             ┆                  ┆ 87ffc7feb92…        │\n",
       "│ 0x3fc91a3afd70395cd ┆ 0x5d64d14d2cf4fe5fe ┆ 8.682774    ┆ 2.4132606e7      ┆ 0x2b0772bea27576242 │\n",
       "│ 496c647d5a6…        ┆ 4e65b1c7e3d…        ┆             ┆                  ┆ 87ffc7feb92…        │\n",
       "│ 0xf5677b22454dee978 ┆ 0x3fc91a3afd70395cd ┆ 3473.109476 ┆ 2.4132606e7      ┆ 0x2b0772bea27576242 │\n",
       "│ b2eb908d6a1…        ┆ 496c647d5a6…        ┆             ┆                  ┆ 87ffc7feb92…        │\n",
       "└─────────────────────┴─────────────────────┴─────────────┴──────────────────┴─────────────────────┘"
      ]
     },
     "execution_count": 29,
     "metadata": {},
     "output_type": "execute_result"
    }
   ],
   "source": [
    "df.head()"
   ]
  },
  {
   "cell_type": "code",
   "execution_count": 30,
   "metadata": {},
   "outputs": [
    {
     "data": {
      "text/html": [
       "<div><style>\n",
       ".dataframe > thead > tr,\n",
       ".dataframe > tbody > tr {\n",
       "  text-align: right;\n",
       "  white-space: pre-wrap;\n",
       "}\n",
       "</style>\n",
       "<small>shape: (113_885, 5)</small><table border=\"1\" class=\"dataframe\"><thead><tr><th>from</th><th>to</th><th>value</th><th>evt_block_number</th><th>contract_address</th></tr><tr><td>str</td><td>str</td><td>f64</td><td>f64</td><td>str</td></tr></thead><tbody><tr><td>&quot;0x0000000000000000000000000000…</td><td>&quot;0x954217c0fe965e4e1f0ecac075e6…</td><td>3.75e6</td><td>2.4066727e7</td><td>&quot;0x20ef84969f6d81ff74ae4591c331…</td></tr><tr><td>&quot;0x0000000000000000000000000000…</td><td>&quot;0x09c01ab7afb3983e9b64ee6fad76…</td><td>2.375e6</td><td>2.4066727e7</td><td>&quot;0x20ef84969f6d81ff74ae4591c331…</td></tr><tr><td>&quot;0xddc23d34ea2f6920d15995607d00…</td><td>&quot;0x197ecb5c176ad4f6e77894913a94…</td><td>1e8</td><td>2.4066727e7</td><td>&quot;0x20ef84969f6d81ff74ae4591c331…</td></tr><tr><td>&quot;0x0000000000000000000000000000…</td><td>&quot;0xddc23d34ea2f6920d15995607d00…</td><td>1e8</td><td>2.4066727e7</td><td>&quot;0x20ef84969f6d81ff74ae4591c331…</td></tr><tr><td>&quot;0x0000000000000000000000000000…</td><td>&quot;0xa36812df451d705e1a9e8b2b805f…</td><td>3.3625e6</td><td>2.4066727e7</td><td>&quot;0x20ef84969f6d81ff74ae4591c331…</td></tr><tr><td>&hellip;</td><td>&hellip;</td><td>&hellip;</td><td>&hellip;</td><td>&hellip;</td></tr><tr><td>&quot;0x3fdd9a4b3ca4a99e3dfe931e3973…</td><td>&quot;0x124bdb5de060e7ef46075ff7cf94…</td><td>16981.059827</td><td>2.4223242e7</td><td>&quot;0x3e43cb385a6925986e7ea0f0dcda…</td></tr><tr><td>&quot;0xf0f82791bb10bafe1ee74b762bb5…</td><td>&quot;0x3fdd9a4b3ca4a99e3dfe931e3973…</td><td>10725.232202</td><td>2.4223265e7</td><td>&quot;0x3e43cb385a6925986e7ea0f0dcda…</td></tr><tr><td>&quot;0x11ddd59c33c73c44733b4123a86e…</td><td>&quot;0x7b533d27235b7a5df992edb42fdc…</td><td>54652.811263</td><td>2.4223285e7</td><td>&quot;0x3e43cb385a6925986e7ea0f0dcda…</td></tr><tr><td>&quot;0x3fdd9a4b3ca4a99e3dfe931e3973…</td><td>&quot;0x11ddd59c33c73c44733b4123a86e…</td><td>54652.811263</td><td>2.4223285e7</td><td>&quot;0x3e43cb385a6925986e7ea0f0dcda…</td></tr><tr><td>&quot;0x3fdd9a4b3ca4a99e3dfe931e3973…</td><td>&quot;0x3d7214e94598e4c9775028464ca6…</td><td>108931.341233</td><td>2.4223296e7</td><td>&quot;0x3e43cb385a6925986e7ea0f0dcda…</td></tr></tbody></table></div>"
      ],
      "text/plain": [
       "shape: (113_885, 5)\n",
       "┌─────────────────────┬────────────────────┬───────────────┬──────────────────┬────────────────────┐\n",
       "│ from                ┆ to                 ┆ value         ┆ evt_block_number ┆ contract_address   │\n",
       "│ ---                 ┆ ---                ┆ ---           ┆ ---              ┆ ---                │\n",
       "│ str                 ┆ str                ┆ f64           ┆ f64              ┆ str                │\n",
       "╞═════════════════════╪════════════════════╪═══════════════╪══════════════════╪════════════════════╡\n",
       "│ 0x00000000000000000 ┆ 0x954217c0fe965e4e ┆ 3.75e6        ┆ 2.4066727e7      ┆ 0x20ef84969f6d81ff │\n",
       "│ 00000000000…        ┆ 1f0ecac075e6…      ┆               ┆                  ┆ 74ae4591c331…      │\n",
       "│ 0x00000000000000000 ┆ 0x09c01ab7afb3983e ┆ 2.375e6       ┆ 2.4066727e7      ┆ 0x20ef84969f6d81ff │\n",
       "│ 00000000000…        ┆ 9b64ee6fad76…      ┆               ┆                  ┆ 74ae4591c331…      │\n",
       "│ 0xddc23d34ea2f6920d ┆ 0x197ecb5c176ad4f6 ┆ 1e8           ┆ 2.4066727e7      ┆ 0x20ef84969f6d81ff │\n",
       "│ 15995607d00…        ┆ e77894913a94…      ┆               ┆                  ┆ 74ae4591c331…      │\n",
       "│ 0x00000000000000000 ┆ 0xddc23d34ea2f6920 ┆ 1e8           ┆ 2.4066727e7      ┆ 0x20ef84969f6d81ff │\n",
       "│ 00000000000…        ┆ d15995607d00…      ┆               ┆                  ┆ 74ae4591c331…      │\n",
       "│ 0x00000000000000000 ┆ 0xa36812df451d705e ┆ 3.3625e6      ┆ 2.4066727e7      ┆ 0x20ef84969f6d81ff │\n",
       "│ 00000000000…        ┆ 1a9e8b2b805f…      ┆               ┆                  ┆ 74ae4591c331…      │\n",
       "│ …                   ┆ …                  ┆ …             ┆ …                ┆ …                  │\n",
       "│ 0x3fdd9a4b3ca4a99e3 ┆ 0x124bdb5de060e7ef ┆ 16981.059827  ┆ 2.4223242e7      ┆ 0x3e43cb385a692598 │\n",
       "│ dfe931e3973…        ┆ 46075ff7cf94…      ┆               ┆                  ┆ 6e7ea0f0dcda…      │\n",
       "│ 0xf0f82791bb10bafe1 ┆ 0x3fdd9a4b3ca4a99e ┆ 10725.232202  ┆ 2.4223265e7      ┆ 0x3e43cb385a692598 │\n",
       "│ ee74b762bb5…        ┆ 3dfe931e3973…      ┆               ┆                  ┆ 6e7ea0f0dcda…      │\n",
       "│ 0x11ddd59c33c73c447 ┆ 0x7b533d27235b7a5d ┆ 54652.811263  ┆ 2.4223285e7      ┆ 0x3e43cb385a692598 │\n",
       "│ 33b4123a86e…        ┆ f992edb42fdc…      ┆               ┆                  ┆ 6e7ea0f0dcda…      │\n",
       "│ 0x3fdd9a4b3ca4a99e3 ┆ 0x11ddd59c33c73c44 ┆ 54652.811263  ┆ 2.4223285e7      ┆ 0x3e43cb385a692598 │\n",
       "│ dfe931e3973…        ┆ 733b4123a86e…      ┆               ┆                  ┆ 6e7ea0f0dcda…      │\n",
       "│ 0x3fdd9a4b3ca4a99e3 ┆ 0x3d7214e94598e4c9 ┆ 108931.341233 ┆ 2.4223296e7      ┆ 0x3e43cb385a692598 │\n",
       "│ dfe931e3973…        ┆ 775028464ca6…      ┆               ┆                  ┆ 6e7ea0f0dcda…      │\n",
       "└─────────────────────┴────────────────────┴───────────────┴──────────────────┴────────────────────┘"
      ]
     },
     "execution_count": 30,
     "metadata": {},
     "output_type": "execute_result"
    }
   ],
   "source": [
    "df.sort(pl.col('contract_address'), pl.col('evt_block_number'))"
   ]
  },
  {
   "cell_type": "code",
   "execution_count": 49,
   "metadata": {},
   "outputs": [],
   "source": [
    "\n",
    "# Create a DataFrame with two separate rows for each transaction\n",
    "balance_totals = (\n",
    "    pl.concat([\n",
    "        df.select(\n",
    "            pl.col('from').alias('address'),\n",
    "            pl.col('value').cast(pl.Float64) * -1,  # Negative for outgoing\n",
    "            pl.col('evt_block_number'),\n",
    "            pl.col('contract_address')\n",
    "        ),\n",
    "        df.select(\n",
    "            pl.col('to').alias('address'),\n",
    "            pl.col('value').cast(pl.Float64),  # Positive for incoming\n",
    "            pl.col('evt_block_number'),\n",
    "            pl.col('contract_address')\n",
    "        )\n",
    "    ]).filter(pl.col('address') != '0x0000000000000000000000000000000000000000') # remove zero address\n",
    "    .group_by('address', 'contract_address') # group by address + token\n",
    "    .agg(\n",
    "        pl.col('value').sum().alias('final_balance') # sum up balances, per-address and per-token\n",
    "    ).with_columns(\n",
    "        ((pl.col('final_balance') / pl.col('final_balance').sum()) * 100).alias('lottery_pct')\n",
    "    )\n",
    ")\n",
    "\n",
    "balance_totals.write_csv('balance_totals.csv')"
   ]
  },
  {
   "cell_type": "code",
   "execution_count": null,
   "metadata": {},
   "outputs": [],
   "source": [
    "# Optional cells to reward jeets who no longer own any tokens, but at one point did.\n",
    "# In practice, giving people 1 token out of 3.3b makes a very very small difference in people's chances of winning.\n",
    "# You can adjust the threshholds from 1 to, e.g., 10, to increase their chances.\n",
    "\n",
    "generous_dev = (\n",
    "    balance_totals.with_columns(\n",
    "        pl.when(\n",
    "            (pl.col('final_balance') < 1) & (pl.col('final_balance') > -1)\n",
    "        ).then(\n",
    "            pl.lit(1.0)\n",
    "        ).otherwise(\n",
    "            pl.col('final_balance')\n",
    "        ).alias('/dev_is_magnanimous')\n",
    "    ).with_columns(\n",
    "        ((pl.col('/dev_is_magnanimous') / pl.col('/dev_is_magnanimous').sum()) * 100).alias('lottery_pct_magnanimous')\n",
    "    )\n",
    ")"
   ]
  },
  {
   "cell_type": "code",
   "execution_count": 51,
   "metadata": {},
   "outputs": [],
   "source": [
    "generous_dev.write_csv('generous.csv')"
   ]
  }
 ],
 "metadata": {
  "kernelspec": {
   "display_name": ".venv",
   "language": "python",
   "name": "python3"
  },
  "language_info": {
   "codemirror_mode": {
    "name": "ipython",
    "version": 3
   },
   "file_extension": ".py",
   "mimetype": "text/x-python",
   "name": "python",
   "nbconvert_exporter": "python",
   "pygments_lexer": "ipython3",
   "version": "3.9.6"
  }
 },
 "nbformat": 4,
 "nbformat_minor": 2
}
