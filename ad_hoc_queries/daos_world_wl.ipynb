{
 "cells": [
  {
   "cell_type": "code",
   "execution_count": 15,
   "metadata": {},
   "outputs": [],
   "source": [
    "import polars as pl\n",
    "import spice\n",
    "\n",
    "from dotenv import load_dotenv\n",
    "import os\n",
    "\n",
    "# Load environment variables from .env file\n",
    "load_dotenv()\n",
    "\n",
    "# Get DUNE_KEY from .env and set it as DUNE_API_KEY\n",
    "dune_key = os.getenv('DUNE_KEY')\n",
    "os.environ['DUNE_API_KEY'] = dune_key\n"
   ]
  },
  {
   "cell_type": "code",
   "execution_count": 17,
   "metadata": {},
   "outputs": [
    {
     "name": "stdout",
     "output_type": "stream",
     "text": [
      "loading result from cache\n"
     ]
    }
   ],
   "source": [
    "df = spice.query(4481601)"
   ]
  },
  {
   "cell_type": "code",
   "execution_count": null,
   "metadata": {},
   "outputs": [],
   "source": [
    "df.head()"
   ]
  },
  {
   "cell_type": "code",
   "execution_count": 18,
   "metadata": {},
   "outputs": [
    {
     "data": {
      "text/html": [
       "<div><style>\n",
       ".dataframe > thead > tr,\n",
       ".dataframe > tbody > tr {\n",
       "  text-align: right;\n",
       "  white-space: pre-wrap;\n",
       "}\n",
       "</style>\n",
       "<small>shape: (113_885, 4)</small><table border=\"1\" class=\"dataframe\"><thead><tr><th>evt_tx_from</th><th>evt_tx_to</th><th>value</th><th>evt_block_number</th></tr><tr><td>str</td><td>str</td><td>f64</td><td>f64</td></tr></thead><tbody><tr><td>&quot;0x7798ba9512b5a684c12e31518923…</td><td>&quot;0x767e095f6549050b4e9a3bcce18a…</td><td>1e8</td><td>2.3940784e7</td></tr><tr><td>&quot;0x7798ba9512b5a684c12e31518923…</td><td>&quot;0x767e095f6549050b4e9a3bcce18a…</td><td>1e8</td><td>2.3940784e7</td></tr><tr><td>&quot;0x7798ba9512b5a684c12e31518923…</td><td>&quot;0x767e095f6549050b4e9a3bcce18a…</td><td>1.691e6</td><td>2.3940784e7</td></tr><tr><td>&quot;0x7798ba9512b5a684c12e31518923…</td><td>&quot;0x767e095f6549050b4e9a3bcce18a…</td><td>800000.0</td><td>2.3940784e7</td></tr><tr><td>&quot;0x7798ba9512b5a684c12e31518923…</td><td>&quot;0x767e095f6549050b4e9a3bcce18a…</td><td>550000.0</td><td>2.3940784e7</td></tr><tr><td>&hellip;</td><td>&hellip;</td><td>&hellip;</td><td>&hellip;</td></tr><tr><td>&quot;0x0278778593a7b73918f1906c7f55…</td><td>&quot;0x1111111254eeb25477b68fb85ed9…</td><td>22.652848</td><td>2.4223285e7</td></tr><tr><td>&quot;0x0278778593a7b73918f1906c7f55…</td><td>&quot;0x1111111254eeb25477b68fb85ed9…</td><td>2265.284754</td><td>2.4223285e7</td></tr><tr><td>&quot;0x7b533d27235b7a5df992edb42fdc…</td><td>&quot;0x6131b5fae19ea4f9d964eac0408e…</td><td>54652.811263</td><td>2.4223285e7</td></tr><tr><td>&quot;0x7b533d27235b7a5df992edb42fdc…</td><td>&quot;0x6131b5fae19ea4f9d964eac0408e…</td><td>54652.811263</td><td>2.4223285e7</td></tr><tr><td>&quot;0x3d7214e94598e4c9775028464ca6…</td><td>&quot;0x1fba6b0bbae2b74586fba407fb45…</td><td>108931.341233</td><td>2.4223296e7</td></tr></tbody></table></div>"
      ],
      "text/plain": [
       "shape: (113_885, 4)\n",
       "┌───────────────────────────────┬───────────────────────────────┬───────────────┬──────────────────┐\n",
       "│ evt_tx_from                   ┆ evt_tx_to                     ┆ value         ┆ evt_block_number │\n",
       "│ ---                           ┆ ---                           ┆ ---           ┆ ---              │\n",
       "│ str                           ┆ str                           ┆ f64           ┆ f64              │\n",
       "╞═══════════════════════════════╪═══════════════════════════════╪═══════════════╪══════════════════╡\n",
       "│ 0x7798ba9512b5a684c12e3151892 ┆ 0x767e095f6549050b4e9a3bcce18 ┆ 1e8           ┆ 2.3940784e7      │\n",
       "│ 3…                            ┆ a…                            ┆               ┆                  │\n",
       "│ 0x7798ba9512b5a684c12e3151892 ┆ 0x767e095f6549050b4e9a3bcce18 ┆ 1e8           ┆ 2.3940784e7      │\n",
       "│ 3…                            ┆ a…                            ┆               ┆                  │\n",
       "│ 0x7798ba9512b5a684c12e3151892 ┆ 0x767e095f6549050b4e9a3bcce18 ┆ 1.691e6       ┆ 2.3940784e7      │\n",
       "│ 3…                            ┆ a…                            ┆               ┆                  │\n",
       "│ 0x7798ba9512b5a684c12e3151892 ┆ 0x767e095f6549050b4e9a3bcce18 ┆ 800000.0      ┆ 2.3940784e7      │\n",
       "│ 3…                            ┆ a…                            ┆               ┆                  │\n",
       "│ 0x7798ba9512b5a684c12e3151892 ┆ 0x767e095f6549050b4e9a3bcce18 ┆ 550000.0      ┆ 2.3940784e7      │\n",
       "│ 3…                            ┆ a…                            ┆               ┆                  │\n",
       "│ …                             ┆ …                             ┆ …             ┆ …                │\n",
       "│ 0x0278778593a7b73918f1906c7f5 ┆ 0x1111111254eeb25477b68fb85ed ┆ 22.652848     ┆ 2.4223285e7      │\n",
       "│ 5…                            ┆ 9…                            ┆               ┆                  │\n",
       "│ 0x0278778593a7b73918f1906c7f5 ┆ 0x1111111254eeb25477b68fb85ed ┆ 2265.284754   ┆ 2.4223285e7      │\n",
       "│ 5…                            ┆ 9…                            ┆               ┆                  │\n",
       "│ 0x7b533d27235b7a5df992edb42fd ┆ 0x6131b5fae19ea4f9d964eac0408 ┆ 54652.811263  ┆ 2.4223285e7      │\n",
       "│ c…                            ┆ e…                            ┆               ┆                  │\n",
       "│ 0x7b533d27235b7a5df992edb42fd ┆ 0x6131b5fae19ea4f9d964eac0408 ┆ 54652.811263  ┆ 2.4223285e7      │\n",
       "│ c…                            ┆ e…                            ┆               ┆                  │\n",
       "│ 0x3d7214e94598e4c9775028464ca ┆ 0x1fba6b0bbae2b74586fba407fb4 ┆ 108931.341233 ┆ 2.4223296e7      │\n",
       "│ 6…                            ┆ 5…                            ┆               ┆                  │\n",
       "└───────────────────────────────┴───────────────────────────────┴───────────────┴──────────────────┘"
      ]
     },
     "execution_count": 18,
     "metadata": {},
     "output_type": "execute_result"
    }
   ],
   "source": [
    "df.sort(pl.col('evt_block_number'))"
   ]
  },
  {
   "cell_type": "code",
   "execution_count": 19,
   "metadata": {},
   "outputs": [
    {
     "name": "stdout",
     "output_type": "stream",
     "text": [
      "shape: (22_546, 2)\n",
      "┌─────────────────────────────────┬───────────────┐\n",
      "│ address                         ┆ final_balance │\n",
      "│ ---                             ┆ ---           │\n",
      "│ str                             ┆ f64           │\n",
      "╞═════════════════════════════════╪═══════════════╡\n",
      "│ 0x6131b5fae19ea4f9d964eac0408e… ┆ 6.3993e9      │\n",
      "│ 0x3fc91a3afd70395cd496c647d5a6… ┆ 3.9015e9      │\n",
      "│ 0x743f2f29cdd66242fb27d292ab2c… ┆ 2.0683e9      │\n",
      "│ 0x03a520b32c04bf3beef7beb72e91… ┆ 1.4764e9      │\n",
      "│ 0x6b2c0c7be2048daa9b5527982c29… ┆ 1.4217e9      │\n",
      "│ …                               ┆ …             │\n",
      "│ 0x1a72876ebe781e42ab2ee4278b53… ┆ -2.9751e8     │\n",
      "│ 0xb99005b2bf1ae43f15ba262fdf07… ┆ -3.1410e8     │\n",
      "│ 0x7798ba9512b5a684c12e31518923… ┆ -1.2010e9     │\n",
      "│ 0xeea4b70c003d3cce9069b2ec34f4… ┆ -1.2084e9     │\n",
      "│ 0x2fd1d8eaa6ed1b424c2d03ce5ead… ┆ -1.2257e9     │\n",
      "└─────────────────────────────────┴───────────────┘\n",
      "\n",
      "Total sum (should be close to 0): 0.0\n"
     ]
    }
   ],
   "source": [
    "\n",
    "# Create a DataFrame with two separate rows for each transaction\n",
    "df_expanded = pl.concat([\n",
    "    df.select(\n",
    "        pl.col('evt_tx_from').alias('address'),\n",
    "        pl.col('value').cast(pl.Float64) * -1,  # Negative for outgoing\n",
    "        pl.col('evt_block_number')\n",
    "    ),\n",
    "    df.select(\n",
    "        pl.col('evt_tx_to').alias('address'),\n",
    "        pl.col('value').cast(pl.Float64),  # Positive for incoming\n",
    "        pl.col('evt_block_number')\n",
    "    )\n",
    "])\n",
    "\n",
    "# Group by address and sum the values to get final balances\n",
    "final_balances = df_expanded.group_by('address').agg(\n",
    "    pl.col('value').sum().alias('final_balance')\n",
    ")\n",
    "\n",
    "# Sort by final balance in descending order (optional)\n",
    "final_balances = final_balances.sort('final_balance', descending=True)\n",
    "\n",
    "print(final_balances)\n",
    "\n",
    "# Optional: Verify that the total sum is zero (if it should be)\n",
    "total_sum = df_expanded['value'].sum()\n",
    "print(f\"\\nTotal sum (should be close to 0): {total_sum}\")\n"
   ]
  }
 ],
 "metadata": {
  "kernelspec": {
   "display_name": ".venv",
   "language": "python",
   "name": "python3"
  },
  "language_info": {
   "codemirror_mode": {
    "name": "ipython",
    "version": 3
   },
   "file_extension": ".py",
   "mimetype": "text/x-python",
   "name": "python",
   "nbconvert_exporter": "python",
   "pygments_lexer": "ipython3",
   "version": "3.9.6"
  }
 },
 "nbformat": 4,
 "nbformat_minor": 2
}
